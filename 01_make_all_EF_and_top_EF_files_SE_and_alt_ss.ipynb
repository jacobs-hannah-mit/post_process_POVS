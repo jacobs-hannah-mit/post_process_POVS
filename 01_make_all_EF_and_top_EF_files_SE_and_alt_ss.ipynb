{
 "cells": [
  {
   "cell_type": "markdown",
   "id": "9a79ca54-d51e-4133-b64f-8411f32e96d3",
   "metadata": {},
   "source": [
    "Script: to concat files and assign top EF\n",
    "--"
   ]
  },
  {
   "cell_type": "code",
   "execution_count": 1,
   "id": "b8a7860c-b7bd-4f1d-a157-d02d2cd2a55d",
   "metadata": {},
   "outputs": [],
   "source": [
    "import pandas as pd\n",
    "import os\n",
    "import seaborn as sns"
   ]
  },
  {
   "cell_type": "markdown",
   "id": "96c63f36-ffd3-4e9a-b83f-b87dd49ebab9",
   "metadata": {},
   "source": [
    "Function to filter our background exons\n",
    "--"
   ]
  },
  {
   "cell_type": "code",
   "execution_count": null,
   "id": "ef9c6d0f-4c6e-4d59-902a-931837164ff3",
   "metadata": {},
   "outputs": [],
   "source": []
  },
  {
   "cell_type": "code",
   "execution_count": 66,
   "id": "8bc33e54-29b8-45e4-a09f-9145cc62241f",
   "metadata": {},
   "outputs": [],
   "source": [
    "def filter_and_save_exons(type_ss):\n",
    "    all_EFs_df=pd.DataFrame()\n",
    "    directory_path = '/Users/hannahjacobs/Dropbox (MIT)/GradSchool/Finucane/splicing_variation_in_humans_2022/data/00_data/emp_bayes_output/'+type_ss+'_outputs/assigned_EFs/'\n",
    "    files=os.listdir(directory_path)\n",
    "\n",
    "    # Loop through each file in the directory\n",
    "    for file_name in files:\n",
    "        # Check if the entry is a file (not a directory)\n",
    "        if file_name!= '.ipynb_checkpoints':\n",
    "    \n",
    "            df = pd.read_csv(directory_path+file_name)\n",
    "    \n",
    "            df['tissue']=file_name.split('_EFs')[0]\n",
    "    \n",
    "            all_EFs_df=pd.concat([all_EFs_df, df])\n",
    "            # Add your code here to do something with the file\n",
    "    \n",
    "    #check for convergence\n",
    "    all_EFs_df = all_EFs_df[all_EFs_df['function_output_emp_bayes'].apply(lambda x: x.split('success: ')[1].split('\\n')[0])=='True']\n",
    "    \n",
    "    #filter background\n",
    "    all_EFs_background_SE = all_EFs_df[~all_EFs_df.passed_min_threshold_in_tissue]\n",
    "    \n",
    "    all_EFs_above_5_percent_PSI = all_EFs_df[all_EFs_df.passed_min_threshold_in_tissue]\n",
    "    \n",
    "    EF_5_bin = pd.cut(all_EFs_above_5_percent_PSI.EF_5, [0,0.1,0.3,0.5,0.7,0.9,1.0])\n",
    "    \n",
    "    all_EFs_above_5_percent_PSI=all_EFs_above_5_percent_PSI.assign(EF_5_bin=EF_5_bin)\n",
    "    \n",
    "\n",
    "    if type_ss=='alt_ss':\n",
    "        intron_1=all_EFs_above_5_percent_PSI.intron_1.apply(lambda x: x.split(':clu')[0])\n",
    "\n",
    "        intron_2=all_EFs_above_5_percent_PSI.intron_2.apply(lambda x: x.split(':clu')[0])\n",
    "        \n",
    "        cluster_name_no_ID=intron_1+'_'+intron_2\n",
    "        \n",
    "        all_EFs_above_5_percent_PSI=all_EFs_above_5_percent_PSI.assign(cluster_name_no_ID=cluster_name_no_ID)\n",
    "        all_EFs_above_5_percent_PSI=all_EFs_above_5_percent_PSI.assign(splicing_event='alt_splice_site')\n",
    "        \n",
    "        \n",
    "\n",
    "    elif type_ss=='se':\n",
    "\n",
    "            \n",
    "        all_EFs_above_5_percent_PSI=all_EFs_above_5_percent_PSI.assign(intron_1_unskipped=all_EFs_above_5_percent_PSI.cluster_name.apply(lambda x:  x.split('_chr')[0]))\n",
    "    ########\n",
    "        all_EFs_above_5_percent_PSI=all_EFs_above_5_percent_PSI.assign(intron_2_unskipped=all_EFs_above_5_percent_PSI.cluster_name.apply(lambda x: 'chr'+x.split('_chr')[2]+':'+x.split(':')[3].split('_chr')[0]))\n",
    "                                                                                                                                  \n",
    "    \n",
    "        all_EFs_above_5_percent_PSI=all_EFs_above_5_percent_PSI.assign(intron_skipped=all_EFs_above_5_percent_PSI.cluster_name.apply(lambda x: 'chr'+x.split('_chr')[1]))\n",
    "    \n",
    "\n",
    "        exclusion=all_EFs_above_5_percent_PSI[all_EFs_above_5_percent_PSI.minority_is_exclusion_event]\n",
    "        \n",
    "        # For 'exclusion' DataFrame\n",
    "        intron_1_exclusion = exclusion.cluster_name.apply(lambda x: x.split('_chr')[0])\n",
    "        exclusion = exclusion.assign(intron_1=intron_1_exclusion)\n",
    "        \n",
    "        intron_2_exclusion = exclusion.cluster_name.apply(lambda x: 'chr'+x.split('_chr')[1])\n",
    "\n",
    "\n",
    "        exclusion = exclusion.assign(intron_2=intron_2_exclusion)\n",
    "        \n",
    "        # For 'inclusion' DataFrame\n",
    "        inclusion=all_EFs_above_5_percent_PSI[~all_EFs_above_5_percent_PSI.minority_is_exclusion_event]\n",
    "        \n",
    "        intron_1_inclusion = inclusion.cluster_name.apply(lambda x: x.split('_chr')[0])\n",
    "        inclusion = inclusion.assign(intron_1=intron_1_inclusion)\n",
    "\n",
    "\n",
    "        \n",
    "        intron_2_inclusion = inclusion.cluster_name.apply(lambda x: 'chr'+x.split('_chr')[1])\n",
    "        inclusion = inclusion.assign(intron_2=intron_2_inclusion)\n",
    "        \n",
    "        # Combining 'inclusion' and 'exclusion' DataFrames\n",
    "        all_EFs_above_5_percent_PSI = pd.concat([inclusion, exclusion])\n",
    "        \n",
    "                \n",
    "        all_EFs_above_5_percent_PSI=pd.concat([inclusion, exclusion])\n",
    "\n",
    "        all_EFs_above_5_percent_PSI=all_EFs_above_5_percent_PSI.assign(splicing_event='skipped_exon')\n",
    "         \n",
    "    top_EF_all_tissues = all_EFs_above_5_percent_PSI.sort_values(by='EF_5', ascending=False).drop_duplicates(subset='cluster_name_no_ID', keep='first')\n",
    "    \n",
    "  #  all_EFs_above_5_percent_PSI.to_csv('/Users/hannahjacobs/Dropbox (MIT)/GradSchool/Finucane/splicing_variation_in_humans_2022/data/01_data/new_results/all_EF_all_tissues_'+type_ss+'.csv.gz', \n",
    "                             # compression = 'gzip',\n",
    "                             # index=True)\n",
    "    \n",
    "    #all_EFs_background.to_csv('/Users/hannahjacobs/Dropbox (MIT)/GradSchool/Finucane/splicing_variation_in_humans_2022/data/01_data/new_results/all_EF_background_set_'+type_ss+'.csv.gz', \n",
    "                             # compression = 'gzip',\n",
    "                             # index=True)\n",
    "    \n",
    "   # top_EF_all_tissues.to_csv('/Users/hannahjacobs/Dropbox (MIT)/GradSchool/Finucane/splicing_variation_in_humans_2022/data/01_data/new_results/top_EF_all_tissues_'+type_ss+'.csv.gz', \n",
    "                             # compression = 'gzip',\n",
    "                             # index=True)\n",
    "\n",
    "    return all_EFs_above_5_percent_PSI, top_EF_all_tissues\n",
    "\n",
    "        \n",
    "   \n",
    "        \n",
    "                            \n",
    "    "
   ]
  },
  {
   "cell_type": "code",
   "execution_count": 69,
   "id": "5dc08a4e-9830-42b4-b920-fcdcbd457b3f",
   "metadata": {
    "tags": []
   },
   "outputs": [],
   "source": [
    "def filter_and_save_exons_new(type_ss):\n",
    "    all_EFs_df=pd.DataFrame()\n",
    "    directory_path = '/Users/hannahjacobs/Dropbox (MIT)/GradSchool/Finucane/splicing_variation_in_humans_2022/data/00_data/emp_bayes_output/'+type_ss+'_outputs/assigned_EFs/'\n",
    "    files=os.listdir(directory_path)\n",
    "\n",
    "    # Loop through each file in the directory\n",
    "    for file_name in files:\n",
    "        # Check if the entry is a file (not a directory)\n",
    "        if file_name!= '.ipynb_checkpoints':\n",
    "    \n",
    "            df = pd.read_csv(directory_path+file_name)\n",
    "    \n",
    "            df['tissue']=file_name.split('_EFs')[0]\n",
    "    \n",
    "            all_EFs_df=pd.concat([all_EFs_df, df])\n",
    "            # Add your code here to do something with the file\n",
    "    \n",
    "    #check for convergence\n",
    "    all_EFs_df = all_EFs_df[all_EFs_df['function_output_emp_bayes'].apply(lambda x: x.split('success: ')[1].split('\\n')[0])=='True']\n",
    "    \n",
    "    #filter background\n",
    "    all_EFs_background_SE = all_EFs_df[~all_EFs_df.passed_min_threshold_in_tissue]\n",
    "    \n",
    "    all_EFs_above_5_percent_PSI = all_EFs_df[all_EFs_df.passed_min_threshold_in_tissue]\n",
    "    \n",
    "    EF_5_bin = pd.cut(all_EFs_above_5_percent_PSI.EF_5, [0,0.1,0.3,0.5,0.7,0.9,1.0])\n",
    "    \n",
    "    all_EFs_above_5_percent_PSI=all_EFs_above_5_percent_PSI.assign(EF_5_bin=EF_5_bin)\n",
    "    \n",
    "\n",
    "    if type_ss=='alt_ss':\n",
    "        intron_1=all_EFs_above_5_percent_PSI.intron_1.apply(lambda x: x.split(':clu')[0])\n",
    "\n",
    "        intron_2=all_EFs_above_5_percent_PSI.intron_2.apply(lambda x: x.split(':clu')[0])\n",
    "        \n",
    "        cluster_name_no_ID=intron_1+'_'+intron_2\n",
    "        \n",
    "        all_EFs_above_5_percent_PSI=all_EFs_above_5_percent_PSI.assign(cluster_name_no_ID=cluster_name_no_ID)\n",
    "        all_EFs_above_5_percent_PSI=all_EFs_above_5_percent_PSI.assign(splicing_event='alt_splice_site')\n",
    "        \n",
    "        \n",
    "\n",
    "    elif type_ss=='se':\n",
    "\n",
    "            \n",
    "        all_EFs_above_5_percent_PSI=all_EFs_above_5_percent_PSI.assign(intron_1_unskipped=all_EFs_above_5_percent_PSI.cluster_name.apply(lambda x:  x.split('_chr')[0]))\n",
    "    ########\n",
    "        all_EFs_above_5_percent_PSI=all_EFs_above_5_percent_PSI.assign(intron_2_unskipped=all_EFs_above_5_percent_PSI.cluster_name.apply(lambda x: 'chr'+x.split('_chr')[2]+':'+x.split(':')[3].split('_chr')[0]))\n",
    "                                                                                                                                  \n",
    "    \n",
    "        all_EFs_above_5_percent_PSI=all_EFs_above_5_percent_PSI.assign(intron_skipped=all_EFs_above_5_percent_PSI.cluster_name.apply(lambda x: 'chr'+x.split('_chr')[1]))\n",
    "    \n",
    "\n",
    "        exclusion=all_EFs_above_5_percent_PSI[all_EFs_above_5_percent_PSI.minority_is_exclusion_event]\n",
    "        \n",
    "        # For 'exclusion' DataFrame\n",
    "        intron_1_exclusion = exclusion.cluster_name.apply(lambda x: x.split('_chr')[0])\n",
    "        exclusion = exclusion.assign(intron_1=intron_1_exclusion)\n",
    "        \n",
    "        intron_2_exclusion = exclusion.cluster_name.apply(lambda x: 'chr'+x.split('_chr')[1])\n",
    "\n",
    "\n",
    "        exclusion = exclusion.assign(intron_2=intron_2_exclusion)\n",
    "        \n",
    "        # For 'inclusion' DataFrame\n",
    "        inclusion=all_EFs_above_5_percent_PSI[~all_EFs_above_5_percent_PSI.minority_is_exclusion_event]\n",
    "        \n",
    "        intron_1_inclusion = inclusion.cluster_name.apply(lambda x: x.split('_chr')[0])\n",
    "        inclusion = inclusion.assign(intron_1=intron_1_inclusion)\n",
    "\n",
    "\n",
    "        \n",
    "        intron_2_inclusion = inclusion.cluster_name.apply(lambda x: 'chr'+x.split('_chr')[1])\n",
    "        inclusion = inclusion.assign(intron_2=intron_2_inclusion)\n",
    "        \n",
    "        # Combining 'inclusion' and 'exclusion' DataFrames\n",
    "        all_EFs_above_5_percent_PSI = pd.concat([inclusion, exclusion])\n",
    "        \n",
    "                \n",
    "        all_EFs_above_5_percent_PSI=pd.concat([inclusion, exclusion])\n",
    "\n",
    "        intron_1=all_EFs_above_5_percent_PSI.intron_1.apply(lambda x: x.split(':clu')[0])\n",
    "\n",
    "        intron_2=all_EFs_above_5_percent_PSI.intron_2.apply(lambda x: x.split(':clu')[0])\n",
    "        \n",
    "        cluster_name_no_ID=intron_1+'_'+intron_2\n",
    "\n",
    "        all_EFs_above_5_percent_PSI=all_EFs_above_5_percent_PSI.assign(splicing_event='skipped_exon')\n",
    "\n",
    "        all_EFs_above_5_percent_PSI=all_EFs_above_5_percent_PSI.assign(cluster_name_no_ID=cluster_name_no_ID)\n",
    "\n",
    "        \n",
    "         \n",
    "    top_EF_all_tissues = all_EFs_above_5_percent_PSI.sort_values(by='EF_5', ascending=False).drop_duplicates(subset='cluster_name_no_ID', keep='first')\n",
    "    \n",
    "    all_EFs_above_5_percent_PSI.to_csv('/Users/hannahjacobs/Dropbox (MIT)/GradSchool/Finucane/splicing_variation_in_humans_2022/data/01_data/new_results/all_EF_all_tissues_'+type_ss+'.csv.gz', \n",
    "                              compression = 'gzip',\n",
    "                              index=True)\n",
    "    \n",
    "    #all_EFs_background.to_csv('/Users/hannahjacobs/Dropbox (MIT)/GradSchool/Finucane/splicing_variation_in_humans_2022/data/01_data/new_results/all_EF_background_set_'+type_ss+'.csv.gz', \n",
    "                            #  compression = 'gzip',\n",
    "                              #index=True)\n",
    "    \n",
    "    top_EF_all_tissues.to_csv('/Users/hannahjacobs/Dropbox (MIT)/GradSchool/Finucane/splicing_variation_in_humans_2022/data/01_data/new_results/top_EF_all_tissues_'+type_ss+'.csv.gz', \n",
    "                              compression = 'gzip',\n",
    "                              index=True)\n",
    "\n",
    "    return all_EFs_above_5_percent_PSI, top_EF_all_tissues\n",
    "\n",
    "        \n",
    "   \n",
    "        \n",
    "                            \n",
    "    \n",
    "                              "
   ]
  },
  {
   "cell_type": "code",
   "execution_count": 70,
   "id": "c1e90633-3672-4dd2-8b42-4c3a812ef578",
   "metadata": {},
   "outputs": [],
   "source": [
    "[all_EFs_above_5_percent_PSI_se, top_EF_all_tissues_se]= filter_and_save_exons_new('se')\n",
    "\n",
    "\n"
   ]
  },
  {
   "cell_type": "code",
   "execution_count": 77,
   "id": "b34b5091-3dc7-42ae-8eb6-6a69cc49da3c",
   "metadata": {},
   "outputs": [],
   "source": [
    "intron_1=all_EFs_above_5_percent_PSI_alt_ss.intron_1.apply(lambda x: x.split(':clu')[0])\n",
    "\n",
    "intron_2=all_EFs_above_5_percent_PSI_alt_ss.intron_2.apply(lambda x: x.split(':clu')[0])\n",
    "        "
   ]
  },
  {
   "cell_type": "code",
   "execution_count": 82,
   "id": "154466ce-f9a9-4758-b7a9-1d4fea213820",
   "metadata": {},
   "outputs": [],
   "source": [
    "example_of_no_cluster_IDs=intron_1+'_'+intron_2"
   ]
  },
  {
   "cell_type": "code",
   "execution_count": 84,
   "id": "ed47580d-9007-4c6f-9e5c-81d6d8ccb4a3",
   "metadata": {},
   "outputs": [
    {
     "data": {
      "text/plain": [
       "chr15:88467782:88467911_chr15:88467782:88467908        49\n",
       "chr7:6042990:6044562_chr7:6042993:6044562              49\n",
       "chr21:31685174:31685398_chr21:31685240:31685398        49\n",
       "chr14:105220127:105221648_chr14:105220130:105221648    49\n",
       "chr14:105380154:105380954_chr14:105380154:105380957    49\n",
       "                                                       ..\n",
       "chr16:53492519:53492693_chr16:53692364:53696151         1\n",
       "chr16:53435744:53439016_chr16:53453612:53453705         1\n",
       "chr16:53307905:53308686_chr16:53434796:53439016         1\n",
       "chr16:53304625:53306237_chr16:53307953:53308686         1\n",
       "chrX:9760826:9765568_chrX:9760826:9786242               1\n",
       "Name: count, Length: 190746, dtype: int64"
      ]
     },
     "execution_count": 84,
     "metadata": {},
     "output_type": "execute_result"
    }
   ],
   "source": [
    "example_of_no_cluster_IDs.value_counts()"
   ]
  },
  {
   "cell_type": "code",
   "execution_count": 80,
   "id": "37a7e216-d7ef-4b58-9a67-5e8657c4de36",
   "metadata": {},
   "outputs": [
    {
     "data": {
      "text/plain": [
       "intron_1\n",
       "chr12:123613306:123615185    49\n",
       "chr10:77854358:77856730      49\n",
       "chr19:15117972:15119166      49\n",
       "chr17:10706550:10710834      49\n",
       "chr16:53304625:53306237      49\n",
       "                             ..\n",
       "chr2:72575668:72576465        1\n",
       "chr2:74465473:74472123        1\n",
       "chr2:8047938:8087027          1\n",
       "chr2:86889276:86893281        1\n",
       "chrX:9760826:9765568          1\n",
       "Name: count, Length: 138953, dtype: int64"
      ]
     },
     "execution_count": 80,
     "metadata": {},
     "output_type": "execute_result"
    }
   ],
   "source": [
    "intron_1.value_counts()"
   ]
  },
  {
   "cell_type": "code",
   "execution_count": 78,
   "id": "d0f3b497-5d56-4754-8c9e-b034627e5df5",
   "metadata": {},
   "outputs": [
    {
     "data": {
      "text/plain": [
       "intron_2\n",
       "chr12:121004492:121005003    49\n",
       "chr4:48546271:48547584       49\n",
       "chr15:43397321:43398041      49\n",
       "chr11:11936510:11938257      49\n",
       "chr8:81680783:81681498       49\n",
       "                             ..\n",
       "chr3:195710310:195710536      1\n",
       "chr3:196055752:196055816      1\n",
       "chr3:197635807:197649539      1\n",
       "chr3:197944401:197944968      1\n",
       "chrX:49163929:49164707        1\n",
       "Name: count, Length: 125684, dtype: int64"
      ]
     },
     "execution_count": 78,
     "metadata": {},
     "output_type": "execute_result"
    }
   ],
   "source": [
    "intron_2.value_counts()"
   ]
  },
  {
   "cell_type": "code",
   "execution_count": 75,
   "id": "8d977a87-34a6-4336-9c73-cd399d444cca",
   "metadata": {},
   "outputs": [
    {
     "data": {
      "text/plain": [
       "intron_1\n",
       "chr11:67284983:67285078:clu_6769      2\n",
       "chr11:63270112:63297303:clu_5338      2\n",
       "chr1:209760324:209762515:clu_45447    2\n",
       "chr5:81086953:81092801:clu_31663      2\n",
       "chr3:179149716:179198750:clu_37049    2\n",
       "                                     ..\n",
       "chr6:119817133:119843066:clu_38731    1\n",
       "chr15:23979211:24003338:clu_15370     1\n",
       "chr1:50441523:50451793:clu_52640      1\n",
       "chr17:51192280:51192658:clu_13225     1\n",
       "chr5:138169295:138170345:clu_35668    1\n",
       "Name: count, Length: 190740, dtype: int64"
      ]
     },
     "execution_count": 75,
     "metadata": {},
     "output_type": "execute_result"
    }
   ],
   "source": [
    "top_EF_all_tissues_alt_ss.intron_1.value_counts()"
   ]
  },
  {
   "cell_type": "code",
   "execution_count": 71,
   "id": "94e2baf5-ad21-4d0d-877f-10b8fad56d70",
   "metadata": {},
   "outputs": [],
   "source": [
    "[all_EFs_above_5_percent_PSI_alt_ss, top_EF_all_tissues_alt_ss]= filter_and_save_exons_new('alt_ss')\n",
    "\n"
   ]
  },
  {
   "cell_type": "markdown",
   "id": "e9bfe914-c74a-4bf0-aead-5344526a1044",
   "metadata": {},
   "source": [
    "sum stats\n",
    "--"
   ]
  },
  {
   "cell_type": "code",
   "execution_count": 73,
   "id": "5c763c65-f64a-4329-8f77-6120dd9d0164",
   "metadata": {},
   "outputs": [
    {
     "name": "stdout",
     "output_type": "stream",
     "text": [
      "top EF SE# = 58579\n",
      "all EF SE# = 278601\n",
      "top EF altss# = 190746\n",
      "all EF altss# = 793676\n"
     ]
    }
   ],
   "source": [
    "print('top EF SE# = '+str(len(top_EF_all_tissues_se)))\n",
    "\n",
    "print('all EF SE# = '+str(len(all_EFs_above_5_percent_PSI_se)))\n",
    "\n",
    "print('top EF altss# = '+str(len(top_EF_all_tissues_alt_ss)))\n",
    "\n",
    "print('all EF altss# = '+str(len(all_EFs_above_5_percent_PSI_alt_ss)))"
   ]
  },
  {
   "cell_type": "markdown",
   "id": "4c227fe4-2f4a-46a4-9985-2fc3062391ab",
   "metadata": {},
   "source": [
    "export this filtered set by EF, to filter for protein coding and maxent and size of exon in second (02) notebook\n",
    "--"
   ]
  },
  {
   "cell_type": "code",
   "execution_count": 37,
   "id": "97e2e5c5-2785-4856-941f-ef141d4be7f5",
   "metadata": {
    "tags": []
   },
   "outputs": [],
   "source": [
    "\n",
    "\n",
    "\n",
    "\n",
    "#SE= top_EF_all_tissues_se[['cluster_name', 'EF_1', 'EF_5', 'EF_10', 'EF_20','splicing_event','alpha_prior','beta_prior', 'intron_1', 'intron_2']]\n",
    "\n",
    "#alt_ss =top_EF_all_tissues_alt_ss[['cluster_name', 'EF_1', 'EF_5', 'EF_10', 'EF_20','splicing_event','alpha_prior','beta_prior', 'intron_1', 'intron_2']]\n",
    "\n",
    "#top_EF_df=pd.concat([SE, alt_ss])\n",
    "\n",
    "#top_EF_df.to_csv('/Users/hannahjacobs/Dropbox (MIT)/GradSchool/Finucane/splicing_variation_in_humans_2022/data/01_data/new_results/top_EF_all_events_summary_of_EFs.csv.gz', \n",
    "                         # compression = 'gzip',\n",
    "                         #)\n",
    "\n",
    "\n",
    "\n",
    "#alt_ss = all_EFs_above_5_percent_PSI_alt_ss=all_EFs_above_5_percent_PSI_alt_ss.assign(splicing_event='alt_ss')\n",
    "\n",
    "#SEs = all_EFs_above_5_percent_PSI_se=all_EFs_above_5_percent_PSI_se.assign(splicing_event='skipped_exon')\n",
    "\n",
    "\n",
    "#all_EF_df=pd.concat([SE, alt_ss])\n",
    "\n",
    "#all_EF_df.to_csv('/Users/hannahjacobs/Dropbox (MIT)/GradSchool/Finucane/splicing_variation_in_humans_2022/data/01_data/new_results/all_EF_all_events_summary_of_EFs.csv.gz', \n",
    "                          #compression = 'gzip')s\n",
    "                         \n",
    "\n"
   ]
  },
  {
   "cell_type": "code",
   "execution_count": null,
   "id": "75d5427c-4b66-4867-b782-aee4d2b2c84f",
   "metadata": {},
   "outputs": [],
   "source": []
  },
  {
   "cell_type": "code",
   "execution_count": 31,
   "id": "664d4f6e-91ae-4a96-8728-1d2376e8bca8",
   "metadata": {},
   "outputs": [],
   "source": [
    "#top_EF_all_tissues_se.to_csv('/Users/hannahjacobs/Dropbox (MIT)/GradSchool/Finucane/splicing_variation_in_humans_2022/data/01_data/new_results/filtered_maxent_top_EF_all_tissues_skipped_exons.csv.gz', compression='gzip', index=False)\n",
    "\n",
    "#top_EF_all_tissues_alt_ss.to_csv('/Users/hannahjacobs/Dropbox (MIT)/GradSchool/Finucane/splicing_variation_in_humans_2022/data/01_data/new_results/filtered_maxent_top_EF_all_tissues_alt_ss.csv.gz', compression='gzip', index=False)\n",
    "data_directory='/Users/hannahjacobs/Dropbox (MIT)/GradSchool/Finucane/splicing_variation_in_humans_2022/data/01_data/new_results/'"
   ]
  },
  {
   "cell_type": "code",
   "execution_count": 32,
   "id": "ff485bed-21c1-4966-98f1-8c8f249cd34f",
   "metadata": {},
   "outputs": [],
   "source": [
    "top_EF_all_tissues_se.to_csv(data_directory+'top_EF_all_tissues_se.csv.gz',\n",
    "                                             compression='gzip',\n",
    "                                             index=False)\n",
    "\n",
    "top_EF_all_tissues_alt_ss.to_csv(data_directory+'top_EF_all_tissues_alt_ss.csv.gz',\n",
    "                                             compression='gzip',\n",
    "                                             index=False)\n",
    "\n",
    "\n",
    "all_EFs_above_5_percent_PSI_se.to_csv(data_directory+'all_EF_all_tissues_se.csv.gz',\n",
    "                                             compression='gzip',\n",
    "                                             index=False)\n",
    "\n",
    "all_EFs_above_5_percent_PSI_alt_ss.to_csv(data_directory+'all_EF_all_tissues_alt_ss.csv.gz',\n",
    "                                             compression='gzip',\n",
    "                                             index=False)"
   ]
  }
 ],
 "metadata": {
  "kernelspec": {
   "display_name": "Python 3 (ipykernel)",
   "language": "python",
   "name": "python3"
  },
  "language_info": {
   "codemirror_mode": {
    "name": "ipython",
    "version": 3
   },
   "file_extension": ".py",
   "mimetype": "text/x-python",
   "name": "python",
   "nbconvert_exporter": "python",
   "pygments_lexer": "ipython3",
   "version": "3.8.17"
  }
 },
 "nbformat": 4,
 "nbformat_minor": 5
}
